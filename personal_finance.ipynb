{
 "cells": [
  {
   "cell_type": "markdown",
   "metadata": {},
   "source": [
    "# Personal Finance Demo\n",
    "\n",
    "This page is for demonstration purposes only.\n",
    "\n",
    "Objectives of this page are to demonstrate the importance of:\n",
    "1. prioritizing debt payments by interest rate\n",
    "2. diversifying your portfolio"
   ]
  },
  {
   "cell_type": "code",
   "execution_count": 65,
   "metadata": {},
   "outputs": [],
   "source": [
    "import numpy as np\n",
    "import pandas as pd\n",
    "import matplotlib as mpl\n",
    "import matplotlib.pyplot as plt \n",
    "%matplotlib inline\n",
    "import seaborn as sns"
   ]
  },
  {
   "cell_type": "markdown",
   "metadata": {},
   "source": [
    "Dependencies:\n",
    "1. liability: self\n",
    "2. debt_remaining: self\n",
    "3. front_end: liability()\n",
    "4. debt_graphs: front_end(), debt_remaining(), liability()"
   ]
  },
  {
   "cell_type": "code",
   "execution_count": 37,
   "metadata": {},
   "outputs": [],
   "source": [
    "#User inputs principal, interest rate, and monthly payment\n",
    "#Outputs time to payoff and total interest paid over time\n",
    "#Plots a graph of the balance over time\n",
    "\n",
    "def liability(): #this function writes one row of debt\n",
    "    debt_name = input('How do you refer to this debt (loan, credit card)?: ')\n",
    "    principal = float(input('What is your balance: '))\n",
    "    interest_rate = float(input('What is the interest rate %? '))/100/12\n",
    "    payment = float(input('How much do you want to pay monthly: '))\n",
    "    \n",
    "    time = -1*np.log10(1-interest_rate*principal/payment)/np.log10(1+interest_rate)\n",
    "    \n",
    "    print('The number of months to pay off your', debt_name, ' will be ', time, ' months.')\n",
    "    \n",
    "    return debt_name, principal, interest_rate, payment, time\n",
    "\n",
    "def add_debt(df): \n",
    "    df=df.append(front_end())\n",
    "    return df\n",
    "\n",
    "#this function is formula for remaining debt\n",
    "def debt_remaining(principal, interest_rate, payment, number_of_payments):\n",
    "    remaining_debt=principal*(1+interest_rate**number_of_payments)-(payment/interest_rate)*\\\n",
    "    ((1+interest_rate)**number_of_payments-1)\n",
    "    return remaining_debt\n",
    "\n",
    "#this function prompts the user to enter each row of debt and converts everything into a dataframe\n",
    "def front_end():\n",
    "    x='y' #initialize the continue variable to yes\n",
    "    c=0 #counter\n",
    "    all_your_debt = [['debt_name', 'principal', 'interest_rate', 'payment', 'time']]\n",
    "\n",
    "    while x=='y' or x=='yes':\n",
    "        all_your_debt.append(liability()) \n",
    "        x=input('Would you like to add another debt? ')\n",
    "        c+=1\n",
    "        \n",
    "    df = pd.DataFrame(all_your_debt, columns=all_your_debt[0])\n",
    "    df=df.drop([0])\n",
    "    df.set_index('debt_name')\n",
    "    return df\n",
    "    \n",
    "def debt_graphs(): #this function graphs all of your debts (not yet tho)\n",
    "    df=front_end()\n",
    "    x=range(int(df.iloc[0]['time']), 1, -1) #x-axis will be total number of months down to 1\n",
    "#     x2=range(int(df.iloc[1]['time']), 1, -1) #x-axis will be total number of months down to 1\n",
    "\n",
    "    y=[] #initialize list for total price\n",
    "    z=0 #principal\n",
    "\n",
    "    principal = df.iloc[0]['principal']\n",
    "    interest_rate = df.iloc[0]['interest_rate']\n",
    "    payment = df.iloc[0]['payment']\n",
    "    title = df.iloc[0]['debt_name']\n",
    "    \n",
    "#     principal = df.iloc[1]['principal']\n",
    "#     interest_rate = df.iloc[1]['interest_rate']\n",
    "#     payment = df.iloc[1]['payment']\n",
    "#     title = df.iloc[1]['debt_name']\n",
    "    \n",
    "#     debt1 = [principal, interest_rate, payment, n]\n",
    "    \n",
    "    for n in x:\n",
    "        z=debt_remaining(principal, interest_rate, payment, n)\n",
    "        y.append(z)\n",
    "\n",
    "    plt.xlabel('Number of payment periods (m) ')\n",
    "    plt.ylabel('Outstanding debt ($) ')\n",
    "    plt.title(title + ' Repayment trend ')\n",
    "\n",
    "    plt.plot(x,y)\n",
    "    plt.show()"
   ]
  },
  {
   "cell_type": "code",
   "execution_count": 38,
   "metadata": {},
   "outputs": [
    {
     "name": "stdout",
     "output_type": "stream",
     "text": [
      "How do you refer to this debt (loan, credit card)?: AAAAA\n",
      "What is your balance: 7000\n",
      "What is the interest rate %? 5\n",
      "How much do you want to pay monthly: 150\n",
      "The number of months to pay off your AAAAA  will be  52.00158266547926  months.\n",
      "Would you like to add another debt? 6100\n"
     ]
    },
    {
     "data": {
      "image/png": "[encoded data removed]",
      "text/plain": [
       "<Figure size 432x288 with 1 Axes>"
      ]
     },
     "metadata": {
      "needs_background": "light"
     },
     "output_type": "display_data"
    }
   ],
   "source": [
    "debt_graphs()"
   ]
  },
  {
   "cell_type": "markdown",
   "metadata": {},
   "source": [
    "### Below is a mechanism for graphing debt repayment"
   ]
  },
  {
   "cell_type": "code",
   "execution_count": null,
   "metadata": {},
   "outputs": [],
   "source": [
    "df=front_end()\n",
    "x1=range(int(df.iloc[0]['time']), 1, -1) #x-axis will be total number of months down to 1\n",
    "# x2=range(int(df.iloc[1]['time']), 1, -1) #x-axis will be total number of months down to 1\n",
    "\n",
    "y=[] #initialize list for total price\n",
    "z=0 #principal\n",
    "\n",
    "principal = df.iloc[0]['principal']\n",
    "interest_rate = df.iloc[0]['interest_rate']\n",
    "payment = df.iloc[0]['payment']\n",
    "title = df.iloc[0]['debt_name']\n",
    "\n",
    "# principal = df.iloc[1]['principal']\n",
    "# interest_rate = df.iloc[1]['interest_rate']\n",
    "# payment = df.iloc[1]['payment']\n",
    "# title = df.iloc[1]['debt_name']\n",
    "\n",
    "# debt1 = [principal, interest_rate, payment, n]\n",
    "\n",
    "for n in x1:\n",
    "    z=debt_remaining(principal, interest_rate, payment, n)\n",
    "    y.append(z)\n",
    "\n",
    "plt.xlabel('Number of payment periods (m) ')\n",
    "plt.ylabel('Outstanding debt ($) ')\n",
    "plt.title(title + ' Repayment trend ')\n",
    "\n",
    "plt.plot(x,y)\n",
    "plt.show()"
   ]
  },
  {
   "cell_type": "code",
   "execution_count": 39,
   "metadata": {},
   "outputs": [
    {
     "name": "stdout",
     "output_type": "stream",
     "text": [
      "How do you refer to this debt (loan, credit card)?: AAAAAA\n",
      "What is your balance: 7000\n",
      "What is the interest rate %? 5\n",
      "How much do you want to pay monthly: 150\n",
      "The number of months to pay off your AAAAAA  will be  52.00158266547926  months.\n",
      "Would you like to add another debt? y\n",
      "How do you refer to this debt (loan, credit card)?: BBBBBBB\n",
      "What is your balance: 8000\n",
      "What is the interest rate %? 4\n",
      "How much do you want to pay monthly: 144\n",
      "The number of months to pay off your BBBBBBB  will be  61.540664207401264  months.\n",
      "Would you like to add another debt? m\n"
     ]
    }
   ],
   "source": [
    "df=front_end()"
   ]
  },
  {
   "cell_type": "code",
   "execution_count": 43,
   "metadata": {},
   "outputs": [
    {
     "data": {
      "text/html": [
       "<div>\n",
       "<style scoped>\n",
       "    .dataframe tbody tr th:only-of-type {\n",
       "        vertical-align: middle;\n",
       "    }\n",
       "\n",
       "    .dataframe tbody tr th {\n",
       "        vertical-align: top;\n",
       "    }\n",
       "\n",
       "    .dataframe thead th {\n",
       "        text-align: right;\n",
       "    }\n",
       "</style>\n",
       "<table border=\"1\" class=\"dataframe\">\n",
       "  <thead>\n",
       "    <tr style=\"text-align: right;\">\n",
       "      <th></th>\n",
       "      <th>debt_name</th>\n",
       "      <th>principal</th>\n",
       "      <th>interest_rate</th>\n",
       "      <th>payment</th>\n",
       "      <th>time</th>\n",
       "    </tr>\n",
       "  </thead>\n",
       "  <tbody>\n",
       "    <tr>\n",
       "      <td>1</td>\n",
       "      <td>AAAAAA</td>\n",
       "      <td>7000</td>\n",
       "      <td>0.00416667</td>\n",
       "      <td>150</td>\n",
       "      <td>52.0016</td>\n",
       "    </tr>\n",
       "    <tr>\n",
       "      <td>2</td>\n",
       "      <td>BBBBBBB</td>\n",
       "      <td>8000</td>\n",
       "      <td>0.00333333</td>\n",
       "      <td>144</td>\n",
       "      <td>61.5407</td>\n",
       "    </tr>\n",
       "    <tr>\n",
       "      <td>1</td>\n",
       "      <td>CCCCCC</td>\n",
       "      <td>9000</td>\n",
       "      <td>0.00333333</td>\n",
       "      <td>200</td>\n",
       "      <td>48.8369</td>\n",
       "    </tr>\n",
       "  </tbody>\n",
       "</table>\n",
       "</div>"
      ],
      "text/plain": [
       "  debt_name principal interest_rate payment     time\n",
       "1    AAAAAA      7000    0.00416667     150  52.0016\n",
       "2   BBBBBBB      8000    0.00333333     144  61.5407\n",
       "1    CCCCCC      9000    0.00333333     200  48.8369"
      ]
     },
     "execution_count": 43,
     "metadata": {},
     "output_type": "execute_result"
    }
   ],
   "source": [
    "df"
   ]
  },
  {
   "cell_type": "code",
   "execution_count": 41,
   "metadata": {},
   "outputs": [
    {
     "name": "stdout",
     "output_type": "stream",
     "text": [
      "How do you refer to this debt (loan, credit card)?: CCCCCC\n",
      "What is your balance: 9000\n",
      "What is the interest rate %? 4\n",
      "How much do you want to pay monthly: 200\n",
      "The number of months to pay off your CCCCCC  will be  48.83689324501495  months.\n",
      "Would you like to add another debt? N\n"
     ]
    }
   ],
   "source": [
    "df = add_debt(df)"
   ]
  },
  {
   "cell_type": "code",
   "execution_count": 42,
   "metadata": {},
   "outputs": [
    {
     "data": {
      "text/html": [
       "<div>\n",
       "<style scoped>\n",
       "    .dataframe tbody tr th:only-of-type {\n",
       "        vertical-align: middle;\n",
       "    }\n",
       "\n",
       "    .dataframe tbody tr th {\n",
       "        vertical-align: top;\n",
       "    }\n",
       "\n",
       "    .dataframe thead th {\n",
       "        text-align: right;\n",
       "    }\n",
       "</style>\n",
       "<table border=\"1\" class=\"dataframe\">\n",
       "  <thead>\n",
       "    <tr style=\"text-align: right;\">\n",
       "      <th></th>\n",
       "      <th>debt_name</th>\n",
       "      <th>principal</th>\n",
       "      <th>interest_rate</th>\n",
       "      <th>payment</th>\n",
       "      <th>time</th>\n",
       "    </tr>\n",
       "  </thead>\n",
       "  <tbody>\n",
       "    <tr>\n",
       "      <td>1</td>\n",
       "      <td>AAAAAA</td>\n",
       "      <td>7000</td>\n",
       "      <td>0.00416667</td>\n",
       "      <td>150</td>\n",
       "      <td>52.0016</td>\n",
       "    </tr>\n",
       "    <tr>\n",
       "      <td>2</td>\n",
       "      <td>BBBBBBB</td>\n",
       "      <td>8000</td>\n",
       "      <td>0.00333333</td>\n",
       "      <td>144</td>\n",
       "      <td>61.5407</td>\n",
       "    </tr>\n",
       "    <tr>\n",
       "      <td>1</td>\n",
       "      <td>CCCCCC</td>\n",
       "      <td>9000</td>\n",
       "      <td>0.00333333</td>\n",
       "      <td>200</td>\n",
       "      <td>48.8369</td>\n",
       "    </tr>\n",
       "  </tbody>\n",
       "</table>\n",
       "</div>"
      ],
      "text/plain": [
       "  debt_name principal interest_rate payment     time\n",
       "1    AAAAAA      7000    0.00416667     150  52.0016\n",
       "2   BBBBBBB      8000    0.00333333     144  61.5407\n",
       "1    CCCCCC      9000    0.00333333     200  48.8369"
      ]
     },
     "execution_count": 42,
     "metadata": {},
     "output_type": "execute_result"
    }
   ],
   "source": [
    "df"
   ]
  },
  {
   "cell_type": "code",
   "execution_count": 50,
   "metadata": {},
   "outputs": [
    {
     "data": {
      "text/plain": [
       "61.540664207401264"
      ]
     },
     "execution_count": 50,
     "metadata": {},
     "output_type": "execute_result"
    }
   ],
   "source": [
    "df['principal'].sum()"
   ]
  },
  {
   "cell_type": "code",
   "execution_count": 91,
   "metadata": {},
   "outputs": [
    {
     "name": "stderr",
     "output_type": "stream",
     "text": [
      "C:\\Users\\mkorn\\AppData\\Local\\Continuum\\anaconda3\\lib\\site-packages\\ipykernel_launcher.py:19: MatplotlibDeprecationWarning: Adding an axes using the same arguments as a previous axes currently reuses the earlier instance.  In a future version, a new instance will always be created and returned.  Meanwhile, this warning can be suppressed, and the future behavior ensured, by passing a unique label to each axes instance.\n"
     ]
    },
    {
     "data": {
      "text/plain": [
       "(0, 9254.604747765772)"
      ]
     },
     "execution_count": 91,
     "metadata": {},
     "output_type": "execute_result"
    },
    {
     "data": {
      "image/png": "[encoded data removed]",
      "text/plain": [
       "<Figure size 432x288 with 1 Axes>"
      ]
     },
     "metadata": {},
     "output_type": "display_data"
    }
   ],
   "source": [
    "# df=front_end()\n",
    "x=range(int(df.time.max()), 1, -1) #x-axis will be total number of months down to 1\n",
    "\n",
    "y=[] #initialize list for total price\n",
    "z=0 #principal\n",
    "\n",
    "for n in x:\n",
    "    z=debt_remaining(df['principal'], df['interest_rate'], df['payment'], n)\n",
    "    y.append(z)\n",
    "\n",
    "plt.xlabel('Number of payment periods (m) ')\n",
    "plt.ylabel('Outstanding debt ($) ')\n",
    "plt.title('Multiple Debt Repayment trend ')\n",
    "\n",
    "#new attempts to resize\n",
    "    # fig = plt.figure(figsize=(18,8))\n",
    "    # mpl.style.use(['dark_background']) # optional color\n",
    "\n",
    "ax = plt.subplot(1, 1, 1)\n",
    "# kind='line', figsize=(18,8)\n",
    "ax.plot(x,y)\n",
    "ax.set_ylim(bottom=0)"
   ]
  },
  {
   "cell_type": "code",
   "execution_count": 60,
   "metadata": {
    "scrolled": true
   },
   "outputs": [
    {
     "name": "stdout",
     "output_type": "stream",
     "text": [
      "[1   -3393.42\n",
      "2   -1722.88\n",
      "1   -4503.99\n",
      "dtype: object, 1   -3200.91\n",
      "2   -1547.05\n",
      "1    -4259.8\n",
      "dtype: object, 1   -3009.21\n",
      "2   -1371.81\n",
      "1   -4016.41\n",
      "dtype: object, 1    -2818.3\n",
      "2   -1197.16\n",
      "1   -3773.83\n",
      "dtype: object, 1   -2628.18\n",
      "2   -1023.08\n",
      "1   -3532.05\n",
      "dtype: object, 1   -2438.85\n",
      "2   -849.581\n",
      "1   -3291.08\n",
      "dtype: object, 1   -2250.31\n",
      "2   -676.659\n",
      "1   -3050.91\n",
      "dtype: object, 1   -2062.55\n",
      "2   -504.311\n",
      "1   -2811.54\n",
      "dtype: object, 1   -1875.57\n",
      "2   -332.536\n",
      "1   -2572.97\n",
      "dtype: object, 1   -1689.36\n",
      "2   -161.331\n",
      "1   -2335.18\n",
      "dtype: object, 1   -1503.93\n",
      "2    9.30435\n",
      "1   -2098.19\n",
      "dtype: object, 1   -1319.26\n",
      "2    179.373\n",
      "1   -1861.98\n",
      "dtype: object, 1   -1135.37\n",
      "2    348.877\n",
      "1   -1626.56\n",
      "dtype: object, 1   -952.233\n",
      "2    517.817\n",
      "1   -1391.92\n",
      "dtype: object, 1   -769.858\n",
      "2    686.197\n",
      "1   -1158.06\n",
      "dtype: object, 1   -588.241\n",
      "2    854.017\n",
      "1   -924.977\n",
      "dtype: object, 1   -407.377\n",
      "2    1021.28\n",
      "1   -692.668\n",
      "dtype: object, 1   -227.263\n",
      "2    1187.99\n",
      "1   -461.131\n",
      "dtype: object, 1   -47.8968\n",
      "2    1354.14\n",
      "1   -230.363\n",
      "dtype: object, 1     130.725\n",
      "2     1519.74\n",
      "1   -0.361666\n",
      "dtype: object, 1    308.606\n",
      "2    1684.79\n",
      "1    228.875\n",
      "dtype: object, 1    485.749\n",
      "2    1849.29\n",
      "1    457.351\n",
      "dtype: object, 1    662.156\n",
      "2    2013.25\n",
      "1    685.067\n",
      "dtype: object, 1    837.832\n",
      "2    2176.66\n",
      "1    912.027\n",
      "dtype: object, 1    1012.78\n",
      "2    2339.53\n",
      "1    1138.23\n",
      "dtype: object, 1       1187\n",
      "2    2501.86\n",
      "1    1363.69\n",
      "dtype: object, 1     1360.5\n",
      "2    2663.64\n",
      "1    1588.39\n",
      "dtype: object, 1    1533.28\n",
      "2    2824.89\n",
      "1    1812.35\n",
      "dtype: object, 1    1705.34\n",
      "2    2985.61\n",
      "1    2035.57\n",
      "dtype: object, 1    1876.68\n",
      "2    3145.79\n",
      "1    2258.04\n",
      "dtype: object, 1    2047.32\n",
      "2    3305.44\n",
      "1    2479.77\n",
      "dtype: object, 1    2217.25\n",
      "2    3464.56\n",
      "1    2700.77\n",
      "dtype: object, 1    2386.47\n",
      "2    3623.14\n",
      "1    2921.03\n",
      "dtype: object, 1    2554.99\n",
      "2    3781.21\n",
      "1    3140.57\n",
      "dtype: object, 1    2722.81\n",
      "2    3938.74\n",
      "1    3359.37\n",
      "dtype: object, 1    2889.94\n",
      "2    4095.76\n",
      "1    3577.44\n",
      "dtype: object, 1    3056.37\n",
      "2    4252.25\n",
      "1    3794.79\n",
      "dtype: object, 1    3222.11\n",
      "2    4408.22\n",
      "1    4011.42\n",
      "dtype: object, 1    3387.17\n",
      "2    4563.68\n",
      "1    4227.33\n",
      "dtype: object, 1    3551.53\n",
      "2    4718.62\n",
      "1    4442.52\n",
      "dtype: object, 1    3715.22\n",
      "2    4873.04\n",
      "1       4657\n",
      "dtype: object, 1    3878.23\n",
      "2    5026.95\n",
      "1    4870.76\n",
      "dtype: object, 1    4040.56\n",
      "2    5180.35\n",
      "1    5083.82\n",
      "dtype: object, 1    4202.22\n",
      "2    5333.24\n",
      "1    5296.16\n",
      "dtype: object, 1     4363.2\n",
      "2    5485.62\n",
      "1     5507.8\n",
      "dtype: object, 1    4523.52\n",
      "2    5637.49\n",
      "1    5718.74\n",
      "dtype: object, 1    4683.18\n",
      "2    5788.86\n",
      "1    5928.98\n",
      "dtype: object, 1    4842.17\n",
      "2    5939.73\n",
      "1    6138.52\n",
      "dtype: object, 1     5000.5\n",
      "2     6090.1\n",
      "1    6347.36\n",
      "dtype: object, 1    5158.17\n",
      "2    6239.97\n",
      "1    6555.51\n",
      "dtype: object, 1    5315.19\n",
      "2    6389.33\n",
      "1    6762.96\n",
      "dtype: object, 1    5471.56\n",
      "2    6538.21\n",
      "1    6969.73\n",
      "dtype: object, 1    5627.28\n",
      "2    6686.58\n",
      "1    7175.81\n",
      "dtype: object, 1    5782.35\n",
      "2    6834.47\n",
      "1    7381.21\n",
      "dtype: object, 1    5936.78\n",
      "2    6981.86\n",
      "1    7585.92\n",
      "dtype: object, 1    6090.57\n",
      "2    7128.77\n",
      "1    7789.96\n",
      "dtype: object, 1    6243.72\n",
      "2    7275.18\n",
      "1    7993.31\n",
      "dtype: object, 1    6396.24\n",
      "2    7421.11\n",
      "1    8195.99\n",
      "dtype: object, 1    6548.12\n",
      "2    7566.56\n",
      "1       8398\n",
      "dtype: object, 1     6699.5\n",
      "2    7711.61\n",
      "1    8599.43\n",
      "dtype: object]\n"
     ]
    }
   ],
   "source": [
    "print(y)"
   ]
  },
  {
   "cell_type": "code",
   "execution_count": null,
   "metadata": {},
   "outputs": [],
   "source": []
  },
  {
   "cell_type": "code",
   "execution_count": null,
   "metadata": {},
   "outputs": [],
   "source": []
  }
 ],
 "metadata": {
  "kernelspec": {
   "display_name": "Python 3",
   "language": "python",
   "name": "python3"
  },
  "language_info": {
   "codemirror_mode": {
    "name": "ipython",
    "version": 3
   },
   "file_extension": ".py",
   "mimetype": "text/x-python",
   "name": "python",
   "nbconvert_exporter": "python",
   "pygments_lexer": "ipython3",
   "version": "3.7.4"
  }
 },
 "nbformat": 4,
 "nbformat_minor": 2
}
